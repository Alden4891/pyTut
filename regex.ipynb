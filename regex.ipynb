{
 "cells": [
  {
   "cell_type": "markdown",
   "id": "7bb9fffa",
   "metadata": {},
   "source": [
    "## REGEX "
   ]
  },
  {
   "cell_type": "markdown",
   "id": "281f62bd",
   "metadata": {},
   "source": [
    "ref: https://www.youtube.com/redirect?event=video_description&redir_token=QUFFLUhqbDlZNUpCOGFjT2FqX0hJdmxZM09CSXpqdFkwUXxBQ3Jtc0tsOV8wVXo3cnZubXJUYmlnekdnck1HS1pjczZaU0F2bHY5Vmxob0FoaEFXTzQ3RkhKUUMwSVhraUJTVmdkRmpROU9VQU0zV3dBT2hMbjV6RFdvVURaQnl2N3dwS3lwaGp4NmI5REtFTjdyNlYyOHNPNA&q=https%3A%2F%2Fcheatography.com%2Fmutanclan%2Fcheat-sheets%2Fpython-regular-expression-regex%2F&v=UQQsYXa1EHs\n",
    "\n",
    "\n",
    "https://www.youtube.com/watch?v=K8L6KVGG-7o\n"
   ]
  },
  {
   "cell_type": "code",
   "execution_count": 1,
   "id": "94789477",
   "metadata": {},
   "outputs": [],
   "source": [
    "import re"
   ]
  },
  {
   "cell_type": "code",
   "execution_count": 2,
   "id": "4948444e",
   "metadata": {},
   "outputs": [],
   "source": [
    "\n",
    "def validate_email(email):\n",
    "    regex = \"^[a-z0-9]+[\\._]?[a-z0-9]+[@]\\w+[.]\\w{2,3}$\" #this is the correct pattern\n",
    "    #user_input = input()\n",
    "    if re.fullmatch(regex, email):\n",
    "        print(True)\n",
    "    else:\n",
    "        print(False)\n",
    "    \n"
   ]
  },
  {
   "cell_type": "code",
   "execution_count": 3,
   "id": "5d618794",
   "metadata": {},
   "outputs": [
    {
     "name": "stdout",
     "output_type": "stream",
     "text": [
      "True\n",
      "True\n",
      "True\n",
      "True\n",
      "False\n",
      "False\n"
     ]
    }
   ],
   "source": [
    "validate_email(\"aldenroxy@gmail.com\")\n",
    "validate_email(\"alden.roxy@gmail.com\")\n",
    "validate_email(\"alden.roxy14@gmail.com\")\n",
    "validate_email(\"alden_roxy14@gmail.com\")\n",
    "validate_email(\"alden,roxy@gmail.com\")\n",
    "validate_email(\"alden roxy@gmail.com\")"
   ]
  },
  {
   "cell_type": "code",
   "execution_count": 4,
   "id": "2a6ffdbc",
   "metadata": {},
   "outputs": [],
   "source": [
    "def is_valid_pantawid_id(hhid):\n",
    "    regex1 = \"\\d{9}-\\d{1,4}-\\d{5,7}\"\n",
    "    regex2 = \"\\d{9}-\\d{5,10}\"\n",
    "    if re.fullmatch(regex1, hhid) or re.fullmatch(regex2, hhid):\n",
    "        print(True)\n",
    "    else:\n",
    "        print(False)"
   ]
  },
  {
   "cell_type": "code",
   "execution_count": 5,
   "id": "bfa31680",
   "metadata": {},
   "outputs": [
    {
     "name": "stdout",
     "output_type": "stream",
     "text": [
      "True\n",
      "True\n",
      "True\n"
     ]
    }
   ],
   "source": [
    "is_valid_pantawid_id(\"123456789-1234-12345\")\n",
    "is_valid_pantawid_id(\"123456789-1-12345\")\n",
    "is_valid_pantawid_id(\"123456789-12345678\")"
   ]
  },
  {
   "cell_type": "code",
   "execution_count": 40,
   "id": "0665927e",
   "metadata": {},
   "outputs": [],
   "source": [
    "def change_pattern(param1):\n",
    "#     pattern = \"\\d{3}-\\d{3}-\\d{4}\"\n",
    "    pattern = \"(\\d\\d\\d)-(\\d\\d\\d)-(\\d\\d\\d\\d)\"\n",
    "#     new_pattern = r\"\\1\\2\\3\"\n",
    "    new_pattern = r\"(\\1) \\2-\\3\"\n",
    "    new_str = re.sub(pattern,new_pattern,param1)\n",
    "    return new_str"
   ]
  },
  {
   "cell_type": "code",
   "execution_count": 45,
   "id": "26b38d24",
   "metadata": {},
   "outputs": [
    {
     "data": {
      "text/plain": [
       "'(123) 456-7890'"
      ]
     },
     "execution_count": 45,
     "metadata": {},
     "output_type": "execute_result"
    }
   ],
   "source": [
    "change_pattern(\"123-456-7890\")"
   ]
  },
  {
   "cell_type": "code",
   "execution_count": null,
   "id": "467f444a",
   "metadata": {},
   "outputs": [],
   "source": []
  },
  {
   "cell_type": "code",
   "execution_count": null,
   "id": "da8dfdcf",
   "metadata": {},
   "outputs": [],
   "source": []
  }
 ],
 "metadata": {
  "kernelspec": {
   "display_name": "Python 3 (ipykernel)",
   "language": "python",
   "name": "python3"
  },
  "language_info": {
   "codemirror_mode": {
    "name": "ipython",
    "version": 3
   },
   "file_extension": ".py",
   "mimetype": "text/x-python",
   "name": "python",
   "nbconvert_exporter": "python",
   "pygments_lexer": "ipython3",
   "version": "3.10.4"
  }
 },
 "nbformat": 4,
 "nbformat_minor": 5
}
