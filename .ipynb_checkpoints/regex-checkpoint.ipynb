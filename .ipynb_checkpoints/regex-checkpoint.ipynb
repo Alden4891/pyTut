{
 "cells": [
  {
   "cell_type": "code",
   "execution_count": 29,
   "id": "d9837bd2",
   "metadata": {},
   "outputs": [],
   "source": [
    "import re"
   ]
  },
  {
   "cell_type": "code",
   "execution_count": 30,
   "id": "6de7fd8c",
   "metadata": {},
   "outputs": [],
   "source": [
    "\n",
    "def validate_email(email):\n",
    "    regex = \"^[a-z0-9]+[\\._]?[a-z0-9]+[@]\\w+[.]\\w{2,3}$\" #this is the correct pattern\n",
    "    #user_input = input()\n",
    "    if re.fullmatch(regex, email):\n",
    "        print(True)\n",
    "    else:\n",
    "        print(False)\n",
    "    \n"
   ]
  },
  {
   "cell_type": "code",
   "execution_count": 31,
   "id": "c76dccec",
   "metadata": {},
   "outputs": [
    {
     "name": "stdout",
     "output_type": "stream",
     "text": [
      "True\n",
      "True\n",
      "True\n",
      "True\n",
      "False\n",
      "False\n"
     ]
    }
   ],
   "source": [
    "validate_email(\"aldenroxy@gmail.com\")\n",
    "validate_email(\"alden.roxy@gmail.com\")\n",
    "validate_email(\"alden.roxy14@gmail.com\")\n",
    "validate_email(\"alden_roxy14@gmail.com\")\n",
    "validate_email(\"alden,roxy@gmail.com\")\n",
    "validate_email(\"alden roxy@gmail.com\")"
   ]
  },
  {
   "cell_type": "code",
   "execution_count": 37,
   "id": "95138f0b",
   "metadata": {},
   "outputs": [],
   "source": [
    "def is_valid_pantawid_id(hhid):\n",
    "    regex1 = \"\\d{9}-\\d{1,4}-\\d{5,7}\"\n",
    "    regex2 = \"\\d{9}-\\d{5,10}\"\n",
    "    if re.fullmatch(regex1, hhid) or re.fullmatch(regex2, hhid):\n",
    "        print(True)\n",
    "    else:\n",
    "        print(False)"
   ]
  },
  {
   "cell_type": "code",
   "execution_count": 42,
   "id": "41274e22",
   "metadata": {},
   "outputs": [
    {
     "name": "stdout",
     "output_type": "stream",
     "text": [
      "True\n",
      "True\n",
      "True\n"
     ]
    }
   ],
   "source": [
    "is_valid_pantawid_id(\"123456789-1234-12345\")\n",
    "is_valid_pantawid_id(\"123456789-1-12345\")\n",
    "is_valid_pantawid_id(\"123456789-12345678\")"
   ]
  },
  {
   "cell_type": "code",
   "execution_count": null,
   "id": "4db30f3a",
   "metadata": {},
   "outputs": [],
   "source": [
    "def change_pattern(str):\n",
    "    pattern = \"\\d{3}-\\d{3}-\\d{4}\"\n",
    "    new_pattern = r\"\\1\\2\\3\"\n",
    "    str=\"123-123-1234\"\n",
    "    new_str = re.sub(pattern,new_pattern,str)\n",
    "    return new_str"
   ]
  }
 ],
 "metadata": {
  "kernelspec": {
   "display_name": "Python 3 (ipykernel)",
   "language": "python",
   "name": "python3"
  },
  "language_info": {
   "codemirror_mode": {
    "name": "ipython",
    "version": 3
   },
   "file_extension": ".py",
   "mimetype": "text/x-python",
   "name": "python",
   "nbconvert_exporter": "python",
   "pygments_lexer": "ipython3",
   "version": "3.10.4"
  }
 },
 "nbformat": 4,
 "nbformat_minor": 5
}
