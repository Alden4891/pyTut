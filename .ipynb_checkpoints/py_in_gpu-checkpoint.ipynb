{
 "cells": [
  {
   "cell_type": "markdown",
   "id": "7762e653",
   "metadata": {},
   "source": [
    "\n",
    "DESC: RUN PYTHON IN GPU <br>\n",
    "\n",
    "pip install numba\n",
    "\n"
   ]
  },
  {
   "cell_type": "code",
   "execution_count": 1,
   "id": "4fb313a3",
   "metadata": {},
   "outputs": [],
   "source": [
    "import numba as nb\n",
    "import numpy as np\n",
    "from timeit import default_timer as timer"
   ]
  },
  {
   "cell_type": "code",
   "execution_count": 2,
   "id": "041d1a00",
   "metadata": {},
   "outputs": [],
   "source": [
    "# To run on GPU\n",
    "@nb.jit(nopython=True)\n",
    "def func2(a):\n",
    "    for i in range(10000000):\n",
    "        a[i]+= 1\n",
    "\n",
    "# To run on CPU\n",
    "def func(a):\n",
    "    for i in range(10000000):\n",
    "        a[i]+= 1"
   ]
  },
  {
   "cell_type": "code",
   "execution_count": 3,
   "id": "3390221a",
   "metadata": {},
   "outputs": [
    {
     "name": "stdout",
     "output_type": "stream",
     "text": [
      "with GPU: 0.2933762\n",
      "without GPU: 4.3398688\n"
     ]
    }
   ],
   "source": [
    "if __name__==\"__main__\":\n",
    "    n = 10000000\n",
    "    a = np.ones(n, dtype = np.float64)\n",
    "\n",
    "    start = timer()\n",
    "    func2(a)\n",
    "    # numba.cuda.profile_stop()\n",
    "    print(\"with GPU:\", timer()-start)\n",
    "    \n",
    "    start = timer()\n",
    "    func(a)\n",
    "    print(\"without GPU:\", timer()-start)"
   ]
  },
  {
   "cell_type": "code",
   "execution_count": null,
   "id": "1ccccc57",
   "metadata": {},
   "outputs": [],
   "source": []
  }
 ],
 "metadata": {
  "kernelspec": {
   "display_name": "Python 3 (ipykernel)",
   "language": "python",
   "name": "python3"
  },
  "language_info": {
   "codemirror_mode": {
    "name": "ipython",
    "version": 3
   },
   "file_extension": ".py",
   "mimetype": "text/x-python",
   "name": "python",
   "nbconvert_exporter": "python",
   "pygments_lexer": "ipython3",
   "version": "3.8.0"
  }
 },
 "nbformat": 4,
 "nbformat_minor": 5
}
