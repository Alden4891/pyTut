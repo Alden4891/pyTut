{
 "cells": [
  {
   "cell_type": "code",
   "execution_count": 1,
   "id": "0e006838",
   "metadata": {},
   "outputs": [
    {
     "data": {
      "text/html": [
       "<div>\n",
       "<style scoped>\n",
       "    .dataframe tbody tr th:only-of-type {\n",
       "        vertical-align: middle;\n",
       "    }\n",
       "\n",
       "    .dataframe tbody tr th {\n",
       "        vertical-align: top;\n",
       "    }\n",
       "\n",
       "    .dataframe thead th {\n",
       "        text-align: right;\n",
       "    }\n",
       "</style>\n",
       "<table border=\"1\" class=\"dataframe\">\n",
       "  <thead>\n",
       "    <tr style=\"text-align: right;\">\n",
       "      <th></th>\n",
       "      <th>WORDS</th>\n",
       "      <th>a</th>\n",
       "      <th>b</th>\n",
       "      <th>c</th>\n",
       "    </tr>\n",
       "  </thead>\n",
       "  <tbody>\n",
       "    <tr>\n",
       "      <th>0</th>\n",
       "      <td>10-point aa</td>\n",
       "      <td>862</td>\n",
       "      <td>210</td>\n",
       "      <td>933</td>\n",
       "    </tr>\n",
       "    <tr>\n",
       "      <th>1</th>\n",
       "      <td>10th ZZZ</td>\n",
       "      <td>517</td>\n",
       "      <td>153</td>\n",
       "      <td>854</td>\n",
       "    </tr>\n",
       "    <tr>\n",
       "      <th>2</th>\n",
       "      <td>11-point zZt</td>\n",
       "      <td>157</td>\n",
       "      <td>525</td>\n",
       "      <td>362</td>\n",
       "    </tr>\n",
       "    <tr>\n",
       "      <th>3</th>\n",
       "      <td>12-point ZZ</td>\n",
       "      <td>530</td>\n",
       "      <td>401</td>\n",
       "      <td>54</td>\n",
       "    </tr>\n",
       "    <tr>\n",
       "      <th>4</th>\n",
       "      <td>16-point zyzzyvas</td>\n",
       "      <td>771</td>\n",
       "      <td>535</td>\n",
       "      <td>965</td>\n",
       "    </tr>\n",
       "    <tr>\n",
       "      <th>...</th>\n",
       "      <td>...</td>\n",
       "      <td>...</td>\n",
       "      <td>...</td>\n",
       "      <td>...</td>\n",
       "    </tr>\n",
       "    <tr>\n",
       "      <th>466540</th>\n",
       "      <td>zyzzyvas 16-point</td>\n",
       "      <td>455</td>\n",
       "      <td>845</td>\n",
       "      <td>852</td>\n",
       "    </tr>\n",
       "    <tr>\n",
       "      <th>466541</th>\n",
       "      <td>ZZ 12-point</td>\n",
       "      <td>455</td>\n",
       "      <td>289</td>\n",
       "      <td>704</td>\n",
       "    </tr>\n",
       "    <tr>\n",
       "      <th>466542</th>\n",
       "      <td>zZt 11-point</td>\n",
       "      <td>62</td>\n",
       "      <td>141</td>\n",
       "      <td>359</td>\n",
       "    </tr>\n",
       "    <tr>\n",
       "      <th>466543</th>\n",
       "      <td>ZZZ 10th</td>\n",
       "      <td>675</td>\n",
       "      <td>781</td>\n",
       "      <td>3</td>\n",
       "    </tr>\n",
       "    <tr>\n",
       "      <th>466544</th>\n",
       "      <td>TRUE 10-point</td>\n",
       "      <td>937</td>\n",
       "      <td>957</td>\n",
       "      <td>595</td>\n",
       "    </tr>\n",
       "  </tbody>\n",
       "</table>\n",
       "<p>466545 rows × 4 columns</p>\n",
       "</div>"
      ],
      "text/plain": [
       "                    WORDS    a    b    c\n",
       "0             10-point aa  862  210  933\n",
       "1                10th ZZZ  517  153  854\n",
       "2            11-point zZt  157  525  362\n",
       "3             12-point ZZ  530  401   54\n",
       "4       16-point zyzzyvas  771  535  965\n",
       "...                   ...  ...  ...  ...\n",
       "466540  zyzzyvas 16-point  455  845  852\n",
       "466541        ZZ 12-point  455  289  704\n",
       "466542       zZt 11-point   62  141  359\n",
       "466543           ZZZ 10th  675  781    3\n",
       "466544      TRUE 10-point  937  957  595\n",
       "\n",
       "[466545 rows x 4 columns]"
      ]
     },
     "execution_count": 1,
     "metadata": {},
     "output_type": "execute_result"
    }
   ],
   "source": [
    "import pandas as pd\n",
    "from rapidfuzz import process, fuzz\n",
    "df = pd.read_csv(\"words.csv\")\n",
    "df\n"
   ]
  },
  {
   "cell_type": "code",
   "execution_count": 7,
   "id": "b9065375",
   "metadata": {},
   "outputs": [
    {
     "data": {
      "text/plain": [
       "('vic uy abas', 85.5, 4)"
      ]
     },
     "execution_count": 7,
     "metadata": {},
     "output_type": "execute_result"
    }
   ],
   "source": [
    "from rapidfuzz.string_metric import levenshtein, normalized_levenshtein\n",
    "from rapidfuzz import process, fuzz\n",
    "choices = [\"jovie dela cruz dumanlag\",\"DAISY DEMAOG UMOT\", \"DHOY ANTONIO BIO\",\"ALRA DAVE ESPARTERO CARIM\",\"vic uy abas\"]\n",
    "res1 = process.extractOne(\"MARGARITA UY LEONEN\", choices, scorer=fuzz.WRatio, score_cutoff=10)\n",
    "res1"
   ]
  },
  {
   "cell_type": "code",
   "execution_count": 26,
   "id": "c6c0203e",
   "metadata": {},
   "outputs": [
    {
     "data": {
      "text/plain": [
       "41.666666666666664"
      ]
     },
     "execution_count": 26,
     "metadata": {},
     "output_type": "execute_result"
    }
   ],
   "source": [
    "row_id = res[2]\n",
    "perc = res[1]\n",
    "res_row = df.iloc[[row_id]]\n",
    "name = res_row[\"WORDS\"].to_numpy()[0]\n",
    "a = res_row[\"a\"].to_numpy()[0]\n",
    "b = res_row[\"b\"].to_numpy()[0]\n",
    "c = res_row[\"c\"].to_numpy()[0]\n",
    "\n",
    "perc\n",
    "# n[0][0]\n"
   ]
  },
  {
   "cell_type": "code",
   "execution_count": 17,
   "id": "9955eda4",
   "metadata": {},
   "outputs": [
    {
     "ename": "AttributeError",
     "evalue": "module 'rapidfuzz.fuzz' has no attribute 'extractOne'",
     "output_type": "error",
     "traceback": [
      "\u001b[1;31m----------------------------------------------------\u001b[0m",
      "\u001b[1;31mAttributeError\u001b[0m     Traceback (most recent call last)",
      "Input \u001b[1;32mIn [17]\u001b[0m, in \u001b[0;36m<cell line: 8>\u001b[1;34m()\u001b[0m\n\u001b[0;32m      6\u001b[0m fuzz\u001b[38;5;241m.\u001b[39mratio(a,b)\n\u001b[0;32m      7\u001b[0m fuzz\u001b[38;5;241m.\u001b[39mtoken_set_ratio(a, b)\n\u001b[1;32m----> 8\u001b[0m \u001b[43mfuzz\u001b[49m\u001b[38;5;241;43m.\u001b[39;49m\u001b[43mextractOne\u001b[49m(\u001b[38;5;124m\"\u001b[39m\u001b[38;5;124mabcd\u001b[39m\u001b[38;5;124m\"\u001b[39m, [\u001b[38;5;124m\"\u001b[39m\u001b[38;5;124mabce\u001b[39m\u001b[38;5;124m\"\u001b[39m], scorer\u001b[38;5;241m=\u001b[39mnormalized_levenshtein)\n",
      "\u001b[1;31mAttributeError\u001b[0m: module 'rapidfuzz.fuzz' has no attribute 'extractOne'"
     ]
    }
   ],
   "source": [
    "from rapidfuzz import process, fuzz\n",
    "# choices = [\"Atlanta Falcons\", \"New York Jets\", \"New York Giants\", \"Dallas Cowboys\"]\n",
    "# process.extract(\"new york jets\", choices, scorer=fuzz.WRatio, limit=2)\n",
    "a = \"MARGARITA UY LEONEN\"\n",
    "b = \"vic uy abas\"\n",
    "fuzz.ratio(a,b)\n",
    "fuzz.token_set_ratio(a, b)\n",
    "fuzz.extractOne(\"abcd\", [\"abce\"], scorer=normalized_levenshtein)\n",
    "\n"
   ]
  },
  {
   "cell_type": "code",
   "execution_count": 111,
   "id": "735d0d36",
   "metadata": {},
   "outputs": [
    {
     "ename": "AttributeError",
     "evalue": "'str' object has no attribute 'int'",
     "output_type": "error",
     "traceback": [
      "\u001b[1;31m----------------------------------------------------\u001b[0m",
      "\u001b[1;31mAttributeError\u001b[0m     Traceback (most recent call last)",
      "Input \u001b[1;32mIn [111]\u001b[0m, in \u001b[0;36m<cell line: 1>\u001b[1;34m()\u001b[0m\n\u001b[1;32m----> 1\u001b[0m \u001b[38;5;124;43m'\u001b[39;49m\u001b[38;5;124;43m2434234\u001b[39;49m\u001b[38;5;124;43m'\u001b[39;49m\u001b[38;5;241;43m.\u001b[39;49m\u001b[43mint\u001b[49m()\n",
      "\u001b[1;31mAttributeError\u001b[0m: 'str' object has no attribute 'int'"
     ]
    }
   ],
   "source": [
    "'2434234'.int()"
   ]
  },
  {
   "cell_type": "code",
   "execution_count": null,
   "id": "7184579a",
   "metadata": {},
   "outputs": [],
   "source": []
  }
 ],
 "metadata": {
  "kernelspec": {
   "display_name": "Python 3 (ipykernel)",
   "language": "python",
   "name": "python3"
  },
  "language_info": {
   "codemirror_mode": {
    "name": "ipython",
    "version": 3
   },
   "file_extension": ".py",
   "mimetype": "text/x-python",
   "name": "python",
   "nbconvert_exporter": "python",
   "pygments_lexer": "ipython3",
   "version": "3.9.5"
  }
 },
 "nbformat": 4,
 "nbformat_minor": 5
}
