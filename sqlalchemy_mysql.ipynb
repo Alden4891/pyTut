{
 "cells": [
  {
   "cell_type": "code",
   "execution_count": 9,
   "id": "76c85b55",
   "metadata": {},
   "outputs": [],
   "source": [
    "from sqlalchemy import create_engine\n",
    "import pandas as pd\n",
    "import pymysql"
   ]
  },
  {
   "cell_type": "code",
   "execution_count": 10,
   "id": "96ab68a9",
   "metadata": {},
   "outputs": [],
   "source": [
    "def mysql_read(host,port,db,table,user,pwd):\n",
    "    sqlEngine       = create_engine(f\"mysql+pymysql://{user}:{pwd}@{host}\", pool_recycle=port)\n",
    "    dbConnection    = sqlEngine.connect()\n",
    "    frame           = pd.read_sql(f\"select * from {db}.{table} limit 0, 100\", dbConnection);\n",
    "    dbConnection.close()\n",
    "    return sqlEngine, frame\n",
    " "
   ]
  },
  {
   "cell_type": "code",
   "execution_count": null,
   "id": "f4efb21b",
   "metadata": {},
   "outputs": [],
   "source": [
    "def mysql_update(host,port,db,table,user,pwd):\n",
    "    sqlEngine       = create_engine(f\"mysql+pymysql://{user}:{pwd}@{host}\", pool_recycle=port)\n",
    "    dbConnection    = sqlEngine.connect()\n",
    "    frame           = pd.read_sql(f\"select * from {db}.{table} limit 0, 100\", dbConnection);\n",
    "    dbConnection.close()\n",
    "    return sqlEngine, frame"
   ]
  },
  {
   "cell_type": "code",
   "execution_count": 11,
   "id": "25fecdab",
   "metadata": {},
   "outputs": [
    {
     "ename": "AttributeError",
     "evalue": "'Engine' object has no attribute 'ResultProxy'",
     "output_type": "error",
     "traceback": [
      "\u001b[1;31m---------------------------------------------------------------------------\u001b[0m",
      "\u001b[1;31mAttributeError\u001b[0m                            Traceback (most recent call last)",
      "Input \u001b[1;32mIn [11]\u001b[0m, in \u001b[0;36m<cell line: 2>\u001b[1;34m()\u001b[0m\n\u001b[0;32m      1\u001b[0m e, df2 \u001b[38;5;241m=\u001b[39m mysql_read(\u001b[38;5;124m'\u001b[39m\u001b[38;5;124m172.26.134.173\u001b[39m\u001b[38;5;124m'\u001b[39m,\u001b[38;5;241m3306\u001b[39m,\u001b[38;5;124m'\u001b[39m\u001b[38;5;124mpppp_data\u001b[39m\u001b[38;5;124m'\u001b[39m,\u001b[38;5;124m'\u001b[39m\u001b[38;5;124mroster\u001b[39m\u001b[38;5;124m'\u001b[39m,\u001b[38;5;124m'\u001b[39m\u001b[38;5;124mroot\u001b[39m\u001b[38;5;124m'\u001b[39m,\u001b[38;5;124m'\u001b[39m\u001b[38;5;124m4891021408271209\u001b[39m\u001b[38;5;124m'\u001b[39m)\n\u001b[1;32m----> 2\u001b[0m \u001b[43me\u001b[49m\u001b[38;5;241;43m.\u001b[39;49m\u001b[43mResultProxy\u001b[49m\u001b[38;5;241m.\u001b[39mrowcount\n",
      "\u001b[1;31mAttributeError\u001b[0m: 'Engine' object has no attribute 'ResultProxy'"
     ]
    }
   ],
   "source": [
    "e, df2 = mysql_read('172.26.134.173',3306,'pppp_data','roster','root','4891021408271209')\n",
    "e.ResultProxy.rowcount"
   ]
  },
  {
   "cell_type": "code",
   "execution_count": null,
   "id": "17b084b4",
   "metadata": {},
   "outputs": [],
   "source": []
  }
 ],
 "metadata": {
  "kernelspec": {
   "display_name": "Python 3 (ipykernel)",
   "language": "python",
   "name": "python3"
  },
  "language_info": {
   "codemirror_mode": {
    "name": "ipython",
    "version": 3
   },
   "file_extension": ".py",
   "mimetype": "text/x-python",
   "name": "python",
   "nbconvert_exporter": "python",
   "pygments_lexer": "ipython3",
   "version": "3.8.0"
  }
 },
 "nbformat": 4,
 "nbformat_minor": 5
}
