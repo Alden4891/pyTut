{
 "cells": [
  {
   "cell_type": "markdown",
   "id": "778d2bf5",
   "metadata": {},
   "source": [
    "pip install mysql-connector"
   ]
  },
  {
   "cell_type": "code",
   "execution_count": 28,
   "id": "12c34851",
   "metadata": {},
   "outputs": [
    {
     "name": "stdout",
     "output_type": "stream",
     "text": [
      "Total number of rows in table:  2\n",
      "\n",
      "Printing each row\n",
      "  Id =  1\n",
      "  FULLNAME =  ALLAN M. BIRUAR JR.\n",
      "  EMP_ID  =  1868\n",
      "  CATEGORY  =  SLP - MIDSAYAP \n",
      "\n",
      "  Id =  2\n",
      "  FULLNAME =  NORHABIBA O. AL CABIB                           \n",
      "  EMP_ID  =  1640\n",
      "  CATEGORY  =  Uncategorized \n",
      "\n",
      "MySQL connection is closed\n"
     ]
    }
   ],
   "source": [
    "import mysql.connector\n",
    "\n",
    "try:\n",
    "    connection = mysql.connector.connect(host='172.26.134.173',\n",
    "                                         database='biometric_dtrsys',\n",
    "                                         user='root',\n",
    "                                         password='4891021408271209')\n",
    "\n",
    "    cursor = connection.cursor()\n",
    "    cursor.execute(\"select * from profile limit 0 ,2\")\n",
    "    # get all records\n",
    "    records = cursor.fetchall()\n",
    "    print(\"Total number of rows in table: \", cursor.rowcount)\n",
    "\n",
    "    print(\"\\nPrinting each row\")\n",
    "    for row in records:\n",
    "        print(\"  Id = \", row[0], )\n",
    "        print(\"  FULLNAME = \", row[1].decode())\n",
    "        print(\"  EMP_ID  = \", row[2])\n",
    "        print(\"  CATEGORY  = \", row[3].decode(), \"\\n\")\n",
    "\n",
    "except mysql.connector.Error as e:\n",
    "    print(\"Error reading data from MySQL table\", e)\n",
    "finally:\n",
    "    if connection.is_connected():\n",
    "        connection.close()\n",
    "        cursor.close()\n",
    "        print(\"MySQL connection is closed\")"
   ]
  },
  {
   "cell_type": "code",
   "execution_count": 29,
   "id": "f9b5545c",
   "metadata": {},
   "outputs": [
    {
     "data": {
      "text/plain": [
       "[(1,\n",
       "  bytearray(b'ALLAN M. BIRUAR JR.'),\n",
       "  1868,\n",
       "  bytearray(b'SLP - MIDSAYAP'),\n",
       "  1,\n",
       "  1),\n",
       " (2,\n",
       "  bytearray(b'NORHABIBA O. AL CABIB                           '),\n",
       "  1640,\n",
       "  bytearray(b'Uncategorized'),\n",
       "  1,\n",
       "  1)]"
      ]
     },
     "execution_count": 29,
     "metadata": {},
     "output_type": "execute_result"
    }
   ],
   "source": [
    "records"
   ]
  },
  {
   "cell_type": "code",
   "execution_count": null,
   "id": "a2425b8a",
   "metadata": {},
   "outputs": [],
   "source": []
  }
 ],
 "metadata": {
  "kernelspec": {
   "display_name": "Python 3 (ipykernel)",
   "language": "python",
   "name": "python3"
  },
  "language_info": {
   "codemirror_mode": {
    "name": "ipython",
    "version": 3
   },
   "file_extension": ".py",
   "mimetype": "text/x-python",
   "name": "python",
   "nbconvert_exporter": "python",
   "pygments_lexer": "ipython3",
   "version": "3.10.1"
  }
 },
 "nbformat": 4,
 "nbformat_minor": 5
}
