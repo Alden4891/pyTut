{
 "cells": [
  {
   "cell_type": "markdown",
   "id": "1e120270",
   "metadata": {},
   "source": [
    "# ini module\n",
    "Requirements:\n",
    "    \n",
    "    pip install INIConfig\n",
    "    pip install iniparse\n",
    "    "
   ]
  },
  {
   "cell_type": "code",
   "execution_count": 1,
   "id": "7ddbf2de",
   "metadata": {},
   "outputs": [],
   "source": [
    "import configparser\n",
    "from os.path import exists\n",
    "from iniparse import INIConfig"
   ]
  },
  {
   "cell_type": "code",
   "execution_count": 2,
   "id": "8ef08a98",
   "metadata": {},
   "outputs": [],
   "source": [
    "class iniparser:\n",
    "    def __init__(self, ini):\n",
    "        self.ini_file = ini\n",
    "        pass\n",
    "    \n",
    "    def write(self,section,ckey,value):\n",
    "        config = configparser.ConfigParser()\n",
    "        config.read(self.ini_file)\n",
    "        \n",
    "        #create a file if doesn't  exists\n",
    "        if not exists(self.ini_file):\n",
    "            with open(self.ini_file, \"x\") as f:\n",
    "                f.write('[' + section + ']\\n')\n",
    "                f.write(ckey + '=' + str(value))\n",
    "                return 1\n",
    "\n",
    "        #create new section if not exists\n",
    "        if not config.has_section(section):\n",
    "            config.add_section(section)\n",
    "            config.set(section, ckey, str(value))\n",
    "        else:\n",
    "            config.set(section, ckey, str(value))\n",
    "\n",
    "        #config[section][ckey] = str(value)\n",
    "        with open(self.ini_file, 'w') as configfile:    # save\n",
    "            config.write(configfile)\n",
    "\n",
    "    def read(self,section,ckey,default):\n",
    "        try:\n",
    "            config = configparser.ConfigParser()\n",
    "            config.read(self.ini_file)\n",
    "            return config[section][ckey]\n",
    "        except:\n",
    "            return default\n",
    "        \n",
    "    def deletekey(self,section,ckey):\n",
    "        parser = configparser.ConfigParser()\n",
    "        parser.read_file(open(self.ini_file))\n",
    "        result = parser.remove_option(section, ckey)\n",
    "        with open(self.ini_file, \"w\") as fp:\n",
    "            parser.write(fp)\n",
    "\n",
    "    def deletesection(self,section):\n",
    "        parser = configparser.ConfigParser()\n",
    "        parser.read_file(open(self.ini_file))\n",
    "        result = parser.remove_section(section)\n",
    "        with open(self.ini_file, \"w\") as fp:\n",
    "            parser.write(fp)            \n",
    "    \n",
    "    def readsection(self,section):\n",
    "        try:\n",
    "            parser = configparser.ConfigParser()\n",
    "            parser.read_file(open(self.ini_file))\n",
    "            return dict(parser[section])\n",
    "        except:\n",
    "            return {}\n",
    "\n",
    "    def readsections(self):\n",
    "        parser = configparser.ConfigParser()\n",
    "        parser.read_file(open(self.ini_file))\n",
    "        return parser.sections()\n",
    "    "
   ]
  },
  {
   "cell_type": "code",
   "execution_count": 3,
   "id": "df29e1c6",
   "metadata": {},
   "outputs": [],
   "source": [
    "a = iniparser('file3.ini')"
   ]
  },
  {
   "cell_type": "code",
   "execution_count": 4,
   "id": "0c33d323",
   "metadata": {},
   "outputs": [
    {
     "data": {
      "text/plain": [
       "1"
      ]
     },
     "execution_count": 4,
     "metadata": {},
     "output_type": "execute_result"
    }
   ],
   "source": [
    "a.write('settings','font','arial')"
   ]
  },
  {
   "cell_type": "code",
   "execution_count": 5,
   "id": "91187af9",
   "metadata": {},
   "outputs": [],
   "source": [
    "a.write('config','key2',1)"
   ]
  },
  {
   "cell_type": "code",
   "execution_count": 6,
   "id": "563150cb",
   "metadata": {},
   "outputs": [],
   "source": [
    "a.write('config2','key1',1)\n",
    "a.write('config2','key2',2)\n",
    "a.write('config2','key3',3)"
   ]
  },
  {
   "cell_type": "code",
   "execution_count": 7,
   "id": "e92a324c",
   "metadata": {},
   "outputs": [
    {
     "data": {
      "text/plain": [
       "{}"
      ]
     },
     "execution_count": 7,
     "metadata": {},
     "output_type": "execute_result"
    }
   ],
   "source": [
    "a.readsection('connection')"
   ]
  },
  {
   "cell_type": "code",
   "execution_count": null,
   "id": "33fd2f09",
   "metadata": {},
   "outputs": [],
   "source": []
  }
 ],
 "metadata": {
  "kernelspec": {
   "display_name": "Python 3 (ipykernel)",
   "language": "python",
   "name": "python3"
  },
  "language_info": {
   "codemirror_mode": {
    "name": "ipython",
    "version": 3
   },
   "file_extension": ".py",
   "mimetype": "text/x-python",
   "name": "python",
   "nbconvert_exporter": "python",
   "pygments_lexer": "ipython3",
   "version": "3.8.0"
  }
 },
 "nbformat": 4,
 "nbformat_minor": 5
}
