{
 "cells": [
  {
   "cell_type": "code",
   "execution_count": 5,
   "id": "fc78b920",
   "metadata": {},
   "outputs": [
    {
     "name": "stdout",
     "output_type": "stream",
     "text": [
      "nm_result_20220419-170634.xlsx\n"
     ]
    }
   ],
   "source": [
    "import time\n",
    "print(f\"nm_result_{time.strftime('%Y%m%d-%H%M%S')}.xlsx\")\n"
   ]
  },
  {
   "cell_type": "code",
   "execution_count": 9,
   "id": "e2111cf9",
   "metadata": {},
   "outputs": [
    {
     "name": "stdout",
     "output_type": "stream",
     "text": [
      "fuzzy-match:   of   78.23%  completed in 56.49s\n"
     ]
    }
   ],
   "source": []
  },
  {
   "cell_type": "code",
   "execution_count": 68,
   "id": "b18f95dc",
   "metadata": {},
   "outputs": [
    {
     "data": {
      "text/plain": [
       "'1d 7h 10m 35s'"
      ]
     },
     "execution_count": 68,
     "metadata": {},
     "output_type": "execute_result"
    }
   ],
   "source": []
  },
  {
   "cell_type": "code",
   "execution_count": null,
   "id": "86e7ea95",
   "metadata": {},
   "outputs": [],
   "source": [
    "\n"
   ]
  },
  {
   "cell_type": "code",
   "execution_count": 103,
   "id": "80be7ae7",
   "metadata": {},
   "outputs": [],
   "source": []
  },
  {
   "cell_type": "code",
   "execution_count": 104,
   "id": "1882cc94",
   "metadata": {},
   "outputs": [
    {
     "name": "stdout",
     "output_type": "stream",
     "text": [
      "IS_MCCT\n"
     ]
    },
    {
     "data": {
      "text/html": [
       "<div>\n",
       "<style scoped>\n",
       "    .dataframe tbody tr th:only-of-type {\n",
       "        vertical-align: middle;\n",
       "    }\n",
       "\n",
       "    .dataframe tbody tr th {\n",
       "        vertical-align: top;\n",
       "    }\n",
       "\n",
       "    .dataframe thead th {\n",
       "        text-align: right;\n",
       "    }\n",
       "</style>\n",
       "<table border=\"1\" class=\"dataframe\">\n",
       "  <thead>\n",
       "    <tr style=\"text-align: right;\">\n",
       "      <th></th>\n",
       "      <th>PROVINCE</th>\n",
       "      <th>MUNICIPALITY</th>\n",
       "      <th>BARANGAY</th>\n",
       "      <th>HOUSEHOLD_ID</th>\n",
       "      <th>ENTRY_ID</th>\n",
       "      <th>LAST_NAME</th>\n",
       "      <th>FIRST_NAME</th>\n",
       "      <th>MID_NAME</th>\n",
       "      <th>EXT_NAME</th>\n",
       "      <th>BIRTHDAY</th>\n",
       "      <th>REGISTERED</th>\n",
       "      <th>CLIENT_STATUS</th>\n",
       "      <th>MEMBER_STATUS</th>\n",
       "    </tr>\n",
       "  </thead>\n",
       "  <tbody>\n",
       "    <tr>\n",
       "      <th>0</th>\n",
       "      <td>COTABATO (NORTH COTABATO)</td>\n",
       "      <td>ALAMADA</td>\n",
       "      <td>MIRASOL</td>\n",
       "      <td>160210003-00124729</td>\n",
       "      <td>553417</td>\n",
       "      <td>FONTANILLA</td>\n",
       "      <td>LOUIGRACE</td>\n",
       "      <td>VALDEZ</td>\n",
       "      <td>NaN</td>\n",
       "      <td>33115</td>\n",
       "      <td>Yes</td>\n",
       "      <td>Active</td>\n",
       "      <td>Active</td>\n",
       "    </tr>\n",
       "    <tr>\n",
       "      <th>1</th>\n",
       "      <td>COTABATO (NORTH COTABATO)</td>\n",
       "      <td>ALAMADA</td>\n",
       "      <td>MIRASOL</td>\n",
       "      <td>160210003-00124729</td>\n",
       "      <td>553418</td>\n",
       "      <td>MONTEROLA</td>\n",
       "      <td>DENNILOU</td>\n",
       "      <td>LABANETE</td>\n",
       "      <td>NaN</td>\n",
       "      <td>32953</td>\n",
       "      <td>Yes</td>\n",
       "      <td>Active</td>\n",
       "      <td>Active</td>\n",
       "    </tr>\n",
       "    <tr>\n",
       "      <th>2</th>\n",
       "      <td>COTABATO (NORTH COTABATO)</td>\n",
       "      <td>ALAMADA</td>\n",
       "      <td>MIRASOL</td>\n",
       "      <td>160210003-00124729</td>\n",
       "      <td>553419</td>\n",
       "      <td>FONTANILLA</td>\n",
       "      <td>MAUI ELOICE</td>\n",
       "      <td>VALDEZ</td>\n",
       "      <td>NaN</td>\n",
       "      <td>40460</td>\n",
       "      <td>Yes</td>\n",
       "      <td>Active</td>\n",
       "      <td>Active</td>\n",
       "    </tr>\n",
       "    <tr>\n",
       "      <th>3</th>\n",
       "      <td>COTABATO (NORTH COTABATO)</td>\n",
       "      <td>ALAMADA</td>\n",
       "      <td>MIRASOL</td>\n",
       "      <td>160210003-00124729</td>\n",
       "      <td>553420</td>\n",
       "      <td>MONTEROLA</td>\n",
       "      <td>MAICO DENNIL</td>\n",
       "      <td>FONTANILLA</td>\n",
       "      <td>NaN</td>\n",
       "      <td>41742</td>\n",
       "      <td>Yes</td>\n",
       "      <td>Active</td>\n",
       "      <td>Active</td>\n",
       "    </tr>\n",
       "  </tbody>\n",
       "</table>\n",
       "</div>"
      ],
      "text/plain": [
       "                    PROVINCE MUNICIPALITY BARANGAY        HOUSEHOLD_ID  \\\n",
       "0  COTABATO (NORTH COTABATO)      ALAMADA  MIRASOL  160210003-00124729   \n",
       "1  COTABATO (NORTH COTABATO)      ALAMADA  MIRASOL  160210003-00124729   \n",
       "2  COTABATO (NORTH COTABATO)      ALAMADA  MIRASOL  160210003-00124729   \n",
       "3  COTABATO (NORTH COTABATO)      ALAMADA  MIRASOL  160210003-00124729   \n",
       "\n",
       "   ENTRY_ID   LAST_NAME    FIRST_NAME    MID_NAME  EXT_NAME  BIRTHDAY  \\\n",
       "0    553417  FONTANILLA     LOUIGRACE      VALDEZ       NaN     33115   \n",
       "1    553418   MONTEROLA      DENNILOU    LABANETE       NaN     32953   \n",
       "2    553419  FONTANILLA   MAUI ELOICE      VALDEZ       NaN     40460   \n",
       "3    553420   MONTEROLA  MAICO DENNIL  FONTANILLA       NaN     41742   \n",
       "\n",
       "  REGISTERED CLIENT_STATUS MEMBER_STATUS  \n",
       "0        Yes        Active        Active  \n",
       "1        Yes        Active        Active  \n",
       "2        Yes        Active        Active  \n",
       "3        Yes        Active        Active  "
      ]
     },
     "execution_count": 104,
     "metadata": {},
     "output_type": "execute_result"
    }
   ],
   "source": []
  },
  {
   "cell_type": "code",
   "execution_count": 97,
   "id": "d1727356",
   "metadata": {},
   "outputs": [
    {
     "data": {
      "text/html": [
       "<div>\n",
       "<style scoped>\n",
       "    .dataframe tbody tr th:only-of-type {\n",
       "        vertical-align: middle;\n",
       "    }\n",
       "\n",
       "    .dataframe tbody tr th {\n",
       "        vertical-align: top;\n",
       "    }\n",
       "\n",
       "    .dataframe thead th {\n",
       "        text-align: right;\n",
       "    }\n",
       "</style>\n",
       "<table border=\"1\" class=\"dataframe\">\n",
       "  <thead>\n",
       "    <tr style=\"text-align: right;\">\n",
       "      <th></th>\n",
       "      <th>PROVINCE</th>\n",
       "      <th>MUNICIPALITY</th>\n",
       "    </tr>\n",
       "  </thead>\n",
       "  <tbody>\n",
       "    <tr>\n",
       "      <th>0</th>\n",
       "      <td>NaN</td>\n",
       "      <td>NaN</td>\n",
       "    </tr>\n",
       "    <tr>\n",
       "      <th>1</th>\n",
       "      <td>NaN</td>\n",
       "      <td>NaN</td>\n",
       "    </tr>\n",
       "    <tr>\n",
       "      <th>2</th>\n",
       "      <td>NaN</td>\n",
       "      <td>NaN</td>\n",
       "    </tr>\n",
       "    <tr>\n",
       "      <th>3</th>\n",
       "      <td>NaN</td>\n",
       "      <td>NaN</td>\n",
       "    </tr>\n",
       "  </tbody>\n",
       "</table>\n",
       "</div>"
      ],
      "text/plain": [
       "   PROVINCE  MUNICIPALITY\n",
       "0       NaN           NaN\n",
       "1       NaN           NaN\n",
       "2       NaN           NaN\n",
       "3       NaN           NaN"
      ]
     },
     "execution_count": 97,
     "metadata": {},
     "output_type": "execute_result"
    }
   ],
   "source": [
    "\n"
   ]
  },
  {
   "cell_type": "code",
   "execution_count": null,
   "id": "cb17f5a2",
   "metadata": {},
   "outputs": [],
   "source": []
  }
 ],
 "metadata": {
  "kernelspec": {
   "display_name": "Python 3 (ipykernel)",
   "language": "python",
   "name": "python3"
  },
  "language_info": {
   "codemirror_mode": {
    "name": "ipython",
    "version": 3
   },
   "file_extension": ".py",
   "mimetype": "text/x-python",
   "name": "python",
   "nbconvert_exporter": "python",
   "pygments_lexer": "ipython3",
   "version": "3.9.5"
  }
 },
 "nbformat": 4,
 "nbformat_minor": 5
}
